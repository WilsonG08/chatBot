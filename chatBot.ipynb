{
  "nbformat": 4,
  "nbformat_minor": 0,
  "metadata": {
    "colab": {
      "provenance": [],
      "authorship_tag": "ABX9TyMUBMXxgVAEvo5OjBycJSNH",
      "include_colab_link": true
    },
    "kernelspec": {
      "name": "python3",
      "display_name": "Python 3"
    },
    "language_info": {
      "name": "python"
    }
  },
  "cells": [
    {
      "cell_type": "markdown",
      "metadata": {
        "id": "view-in-github",
        "colab_type": "text"
      },
      "source": [
        "<a href=\"https://colab.research.google.com/github/WilsonG08/chatBot/blob/main/chatBot.ipynb\" target=\"_parent\"><img src=\"https://colab.research.google.com/assets/colab-badge.svg\" alt=\"Open In Colab\"/></a>"
      ]
    },
    {
      "cell_type": "code",
      "execution_count": null,
      "metadata": {
        "id": "obGftSlwK4Ft"
      },
      "outputs": [],
      "source": [
        "# Bibliotecas\n",
        "\n",
        "import nltk\n",
        "from nltk.chat.util import Chat, reflections"
      ]
    },
    {
      "cell_type": "code",
      "source": [
        "# la r es para los caracteres especiales\n",
        "reglas = [\n",
        "    [r\"Hola| hola| HOLA|ola| Ola | Buenos dias\", [\"Hola! ¿Te puedo ayudar en algo?\"]],\n",
        "    [r\"edad de(.*)\", [\"Lionel Messi tiene 34 años\"]],\n",
        "    [r\"equipo donde juega(.*)\", [\"Lionel Messi actualmente juega en el Inter Miami (Vuelve a casa Leo :'c)\"]],\n",
        "    [r\"cuantos hijos tiene(.*)\", [\"Lionel Messi tiene 3 hijos\"]],\n",
        "    [r\"cuantos balones de oro tiene(.*)\", [\"Lionel Messi ha ganado 7 Balones de Oro\"]]\n",
        "]\n",
        "\n",
        "# Crear el chatbot\n",
        "chat = Chat(reglas,reflections)\n",
        "\n",
        "\n",
        "# iniciar la conversacion\n",
        "print(\"¡Bienvenido al Chatbot!\")\n",
        "while True:\n",
        "        entrada = input()\n",
        "        if entrada.lower() == \"chao\":\n",
        "            print(\"¡Hasta Luego!\")\n",
        "            break\n",
        "        print(chat.respond(entrada))"
      ],
      "metadata": {
        "colab": {
          "base_uri": "https://localhost:8080/"
        },
        "id": "Soa-mXQ3La61",
        "outputId": "e519534d-529b-4e00-ecc3-88de4097d95d"
      },
      "execution_count": null,
      "outputs": [
        {
          "output_type": "stream",
          "name": "stdout",
          "text": [
            "¡Bienvenido al Chatbot!\n",
            "hola\n",
            "Hola! ¿Te puedo ayudar en algo?\n",
            "edad de messi\n",
            "Lionel Messi tiene 34 años\n",
            "equipo donde juega messi\n",
            "Lionel Messi actualmente juega en el Inter Miami (Vuelve a casa Leo :'c)\n",
            "cuantos hijos tiene messi\n",
            "Lionel Messi tiene 3 hijos\n",
            "cuantos balones de oro tiene Messi\n",
            "Lionel Messi ha ganado 7 Balones de Oro\n",
            "chao\n",
            "¡Hasta Luego!\n"
          ]
        }
      ]
    },
    {
      "cell_type": "code",
      "source": [],
      "metadata": {
        "id": "Vx1rGWkfLgQU"
      },
      "execution_count": null,
      "outputs": []
    }
  ]
}